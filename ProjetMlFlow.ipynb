{
 "cells": [
  {
   "cell_type": "markdown",
   "metadata": {},
   "source": [
    "# Projet 2 - Intégration de MLflow dans un Projet FastAPI\n",
    "\n",
    "**Objectif :**\n",
    "L'objectif de cet exercice est d'intégrer **MLflow** dans une API développée avec **FastAPI**. L'API doit être capable de recevoir une structure de données en entrée pour effectuer une inférence sur un modèle préalablement enregistré avec MLflow, puis retourner le résultat sous forme de dictionnaire.\n",
    "\n",
    "**Consignes :**\n",
    "\n",
    "1. **Préparation du modèle :**\n",
    "   - Utiliser un modèle préalablement enregistré avec MLflow (vous pouvez réutiliser le modèle du Projet 1 ou en enregistrer un nouveau).\n",
    "   - Assurez-vous que le modèle est accessible via MLflow pour être chargé lors de l'inférence dans l'API.\n",
    "\n",
    "2. **Création de l'API FastAPI :**\n",
    "   - Développer une API avec FastAPI qui expose un point de terminaison `/predict`.\n",
    "   - Ce point de terminaison doit accepter une structure de données en format JSON (ex: un dictionnaire contenant les caractéristiques du modèle).\n",
    "   \n",
    "3. **Chargement du modèle avec MLflow :**\n",
    "   - Dans le point de terminaison `/predict`, charger le modèle enregistré sur MLflow.\n",
    "   - Utiliser ce modèle pour effectuer une prédiction basée sur les données reçues en entrée.\n",
    "   \n",
    "4. **Retour de la réponse :**\n",
    "   - Le résultat de l'inférence (prédiction) doit être retourné sous forme de dictionnaire au format JSON, avec les prédictions et éventuellement d'autres informations (ex: probabilité, classe prédite, etc.).\n",
    "\n",
    "5. **Bonus (facultatif) :**\n",
    "   - Ajouter une gestion d'erreurs pour vérifier que les données envoyées sont valides.\n",
    "   - Intégrer des tests unitaires pour le point de terminaison `/predict`."
   ]
  },
  {
   "cell_type": "markdown",
   "metadata": {},
   "source": []
  }
 ],
 "metadata": {
  "language_info": {
   "name": "python"
  }
 },
 "nbformat": 4,
 "nbformat_minor": 2
}
